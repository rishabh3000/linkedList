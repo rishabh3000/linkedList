{
 "cells": [
  {
   "cell_type": "code",
   "execution_count": 1,
   "metadata": {},
   "outputs": [
    {
     "name": "stdout",
     "output_type": "stream",
     "text": [
      "12 3 4 65 7 980 \n",
      "12--->3--->4--->65--->7--->980--->null\n"
     ]
    }
   ],
   "source": [
    "class Node:\n",
    "    def __init__(self,val):\n",
    "        self.data=val\n",
    "        self.next=None\n",
    "        \n",
    "def takeInput():\n",
    "    inputList=[int(ele) for ele in input().split()]\n",
    "        \n",
    "    head=None\n",
    "    tail=None\n",
    "        \n",
    "    for currentData in inputList:\n",
    "        if(currentData==-1):\n",
    "            break\n",
    "                \n",
    "        newNode=Node(currentData)\n",
    "        if(head is None):\n",
    "            head=newNode\n",
    "            tail=newNode\n",
    "        else:\n",
    "            tail.next=newNode\n",
    "            tail=newNode\n",
    "    return head\n",
    "\n",
    "rishabh=takeInput()\n",
    "    \n",
    "    \n",
    "def printLL(head):\n",
    "    while(head is not None):\n",
    "        print(str(head.data)+ \"--->\", end=\"\")\n",
    "        head=head.next\n",
    "        \n",
    "    print(\"null\")\n",
    "    \n",
    "printLL(rishabh)"
   ]
  },
  {
   "cell_type": "markdown",
   "metadata": {},
   "source": [
    "## Insert"
   ]
  },
  {
   "cell_type": "code",
   "execution_count": 4,
   "metadata": {},
   "outputs": [
    {
     "name": "stdout",
     "output_type": "stream",
     "text": [
      "12 3 34 65 789 0\n",
      "12-->3-->34-->65-->789-->0-->Null\n"
     ]
    }
   ],
   "source": [
    "\n",
    "\n",
    "class Node:\n",
    "    def __init__(self, val):\n",
    "        self.data = val\n",
    "        self.next = None\n",
    "\n",
    "\n",
    "def takeInput():\n",
    "    inputData = [int(ele) for ele in input().split()]\n",
    "    head = None\n",
    "    tail = None\n",
    "    for cData in inputData:\n",
    "        if(cData == -1):\n",
    "            break\n",
    "        newNode = Node(cData)\n",
    "        if(head is None):\n",
    "            head = newNode\n",
    "            tail = newNode\n",
    "        else:\n",
    "            tail.next = newNode\n",
    "            tail = newNode\n",
    "    return head\n",
    "rishabh =takeInput()\n",
    "def printLL(head):\n",
    "    while(head is not None):\n",
    "        print(str(head.data) + \"-->\", end = \"\")\n",
    "        head = head.next\n",
    "    print(\"Null\")\n",
    "\n",
    "\n",
    "def lengthLL(head):\n",
    "    count = 0\n",
    "    while(head is not None):\n",
    "        count += 1\n",
    "        head = head.next\n",
    "    return count\n",
    "\n",
    "def insertLL(head, pos, val):\n",
    "    if(pos < 0 or pos > lengthLL(head)):\n",
    "        return head\n",
    "\n",
    "printLL(rishabh)\n",
    "\n"
   ]
  },
  {
   "cell_type": "code",
   "execution_count": null,
   "metadata": {},
   "outputs": [],
   "source": []
  }
 ],
 "metadata": {
  "kernelspec": {
   "display_name": "Python 3",
   "language": "python",
   "name": "python3"
  },
  "language_info": {
   "codemirror_mode": {
    "name": "ipython",
    "version": 3
   },
   "file_extension": ".py",
   "mimetype": "text/x-python",
   "name": "python",
   "nbconvert_exporter": "python",
   "pygments_lexer": "ipython3",
   "version": "3.8.3"
  }
 },
 "nbformat": 4,
 "nbformat_minor": 4
}
